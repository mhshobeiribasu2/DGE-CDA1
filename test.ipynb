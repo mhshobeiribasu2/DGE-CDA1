{
 "cells": [
  {
   "cell_type": "code",
   "execution_count": 1,
   "metadata": {},
   "outputs": [
    {
     "data": {
      "text/plain": [
       "'a'"
      ]
     },
     "execution_count": 1,
     "metadata": {},
     "output_type": "execute_result"
    }
   ],
   "source": [
    "def evaluate_on_test_set(cfg, model_path, test_dataset_name):\n",
    "    cfg.MODEL.WEIGHTS = model_path\n",
    "    predictor = DefaultPredictor(cfg)\n",
    "    \n",
    "    evaluator = COCOEvaluator(test_dataset_name, cfg, False, output_dir=\"./output/\")\n",
    "    test_loader = build_detection_test_loader(cfg, test_dataset_name)\n",
    "    return inference_on_dataset(predictor.model, test_loader, evaluator)\n",
    "\n",
    "cfg = get_cfg()\n",
    "cfg.merge_from_file(\"DGE-CDA/configs/jltv_source.yaml\")\n",
    "cfg.DATASETS.TEST = (\"target_test\",)  # Ensure this is a separate test set\n",
    "cfg.MODEL.ROI_HEADS.NUM_CLASSES = 1  # Update based on your dataset\n",
    "cfg.OUTPUT_DIR = \"./output/\"\n",
    "\n",
    "test_results = evaluate_on_test_set(cfg, \"DGE-CDA/adapt_wo_dge/givendata_source_valid_target/model_final.pth\", \"target_test\")\n",
    "print(\"Test set evaluation results:\", test_results)"
   ]
  },
  {
   "cell_type": "code",
   "execution_count": null,
   "metadata": {},
   "outputs": [],
   "source": [
    "import random\n",
    "from detectron2.data import DatasetCatalog, MetadataCatalog\n",
    "from detectron2.data.datasets import register_coco_instances\n",
    "from detectron2.engine import DefaultTrainer, DefaultPredictor\n",
    "from detectron2.config import get_cfg\n",
    "from detectron2.evaluation import COCOEvaluator, inference_on_dataset\n",
    "from detectron2.data import build_detection_test_loader\n",
    "\n",
    "def cross_validation(cfg, dataset_name, num_folds=5):\n",
    "    # Load dataset\n",
    "    dataset_dicts = DatasetCatalog.get(dataset_name)\n",
    "    random.shuffle(dataset_dicts)\n",
    "    \n",
    "    fold_size = len(dataset_dicts) // num_folds\n",
    "    results = []\n",
    "    \n",
    "    for fold in range(num_folds):\n",
    "        train_dataset = dataset_dicts[:fold * fold_size] + dataset_dicts[(fold + 1) * fold_size:]\n",
    "        val_dataset = dataset_dicts[fold * fold_size:(fold + 1) * fold_size]\n",
    "        \n",
    "        # Register temporary datasets\n",
    "        DatasetCatalog.register(\"temp_train\", lambda: train_dataset)\n",
    "        DatasetCatalog.register(\"temp_val\", lambda: val_dataset)\n",
    "        MetadataCatalog.get(\"temp_train\").set(thing_classes=MetadataCatalog.get(dataset_name).thing_classes)\n",
    "        MetadataCatalog.get(\"temp_val\").set(thing_classes=MetadataCatalog.get(dataset_name).thing_classes)\n",
    "        \n",
    "        # Train model\n",
    "        trainer = DefaultTrainer(cfg)\n",
    "        trainer.resume_or_load(resume=False)\n",
    "        trainer.train()\n",
    "        \n",
    "        # Evaluate model\n",
    "        evaluator = COCOEvaluator(\"temp_val\", cfg, False, output_dir=\"./output/\")\n",
    "        val_loader = build_detection_test_loader(cfg, \"temp_val\")\n",
    "        results.append(inference_on_dataset(trainer.model, val_loader, evaluator))\n",
    "        \n",
    "        # Unregister temporary datasets\n",
    "        DatasetCatalog.unregister(\"temp_train\")\n",
    "        DatasetCatalog.unregister(\"temp_val\")\n",
    "    \n",
    "    return results\n",
    "\n",
    "cfg = get_cfg()\n",
    "cfg.merge_from_file(\"DGE-CDA/configs/jltv_source.yaml\")\n",
    "cfg.DATASETS.TRAIN = (\"source_train\", \"source_valid\")\n",
    "cfg.DATASETS.TEST = (\"target\",)\n",
    "cfg.DATALOADER.NUM_WORKERS = 2\n",
    "cfg.SOLVER.IMS_PER_BATCH = 2\n",
    "cfg.SOLVER.BASE_LR = 0.00025\n",
    "cfg.SOLVER.MAX_ITER = 2000\n",
    "cfg.MODEL.ROI_HEADS.BATCH_SIZE_PER_IMAGE = 512\n",
    "cfg.MODEL.ROI_HEADS.NUM_CLASSES = 1  # Update based on your dataset\n",
    "cfg.OUTPUT_DIR = \"./output/\"\n",
    "\n",
    "results = cross_validation(cfg, \"source_train\")\n",
    "print(\"Cross-validation results:\", results)"
   ]
  }
 ],
 "metadata": {
  "kernelspec": {
   "display_name": "Python 3",
   "language": "python",
   "name": "python3"
  },
  "language_info": {
   "codemirror_mode": {
    "name": "ipython",
    "version": 3
   },
   "file_extension": ".py",
   "mimetype": "text/x-python",
   "name": "python",
   "nbconvert_exporter": "python",
   "pygments_lexer": "ipython3",
   "version": "3.11.5"
  }
 },
 "nbformat": 4,
 "nbformat_minor": 2
}
